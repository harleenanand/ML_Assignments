{
  "nbformat": 4,
  "nbformat_minor": 5,
  "metadata": {
    "kernelspec": {
      "display_name": "Python 3",
      "language": "python",
      "name": "python3"
    },
    "language_info": {
      "codemirror_mode": {
        "name": "ipython",
        "version": 3
      },
      "file_extension": ".py",
      "mimetype": "text/x-python",
      "name": "python",
      "nbconvert_exporter": "python",
      "pygments_lexer": "ipython3",
      "version": "3.7.4"
    },
    "colab": {
      "name": "Harleenassign1.ipynb",
      "provenance": []
    }
  },
  "cells": [
    {
      "cell_type": "markdown",
      "metadata": {
        "id": "unique-hughes"
      },
      "source": [
        "### Ques1: Create a program that asks the user to enter their name and their age. Print out a message addressed to them that tells them the year that they will turn 100 years old. "
      ],
      "id": "unique-hughes"
    },
    {
      "cell_type": "code",
      "metadata": {
        "colab": {
          "base_uri": "https://localhost:8080/"
        },
        "id": "nervous-resort",
        "outputId": "406629e1-d2ae-4bab-dcf8-266e05df22bd"
      },
      "source": [
        "from datetime import datetime\n",
        "name = input('Enter your name \\n')\n",
        "age = int(input('Enter your age \\n'))\n",
        "year = int((100-age) + datetime.now().year)\n",
        "print ('Welcome %s! You are %s years old. You will turn 100 years old in %s.' % (name, age, year))"
      ],
      "id": "nervous-resort",
      "execution_count": 1,
      "outputs": [
        {
          "output_type": "stream",
          "text": [
            "Enter your name \n",
            "Harleen Kaur\n",
            "Enter your age \n",
            "21\n",
            "Welcome Harleen Kaur! You are 21 years old. You will turn 100 years old in 2100.\n"
          ],
          "name": "stdout"
        }
      ]
    },
    {
      "cell_type": "markdown",
      "metadata": {
        "id": "jQozz0AY2QeT"
      },
      "source": [
        ""
      ],
      "id": "jQozz0AY2QeT"
    },
    {
      "cell_type": "code",
      "metadata": {
        "id": "fPdgj1Km2PpY"
      },
      "source": [
        ""
      ],
      "id": "fPdgj1Km2PpY",
      "execution_count": null,
      "outputs": []
    },
    {
      "cell_type": "markdown",
      "metadata": {
        "id": "approximate-lancaster"
      },
      "source": [
        "### Extras: i) Add on to the previous program by asking the user for another number and printing out that many copies of the previous message. "
      ],
      "id": "approximate-lancaster"
    },
    {
      "cell_type": "code",
      "metadata": {
        "colab": {
          "base_uri": "https://localhost:8080/"
        },
        "id": "thick-malaysia",
        "outputId": "bd0b2340-cba8-47b4-8f27-7443c88b547c"
      },
      "source": [
        "copies = int(input('How many copies of the above message do you want?\\n'))\n",
        "msg = (\"Welcome %s! You are %s years old. You will turn 100 years old in %s.\" % (name, age, year))\n",
        "print(msg * copies)"
      ],
      "id": "thick-malaysia",
      "execution_count": 2,
      "outputs": [
        {
          "output_type": "stream",
          "text": [
            "How many copies of the above message do you want?\n",
            "2\n",
            "Welcome Harleen Kaur! You are 21 years old. You will turn 100 years old in 2100.Welcome Harleen Kaur! You are 21 years old. You will turn 100 years old in 2100.\n"
          ],
          "name": "stdout"
        }
      ]
    },
    {
      "cell_type": "markdown",
      "metadata": {
        "id": "accessory-methodology"
      },
      "source": [
        "### Extras ii) Print out the copies of above message on seperate lines."
      ],
      "id": "accessory-methodology"
    },
    {
      "cell_type": "code",
      "metadata": {
        "colab": {
          "base_uri": "https://localhost:8080/"
        },
        "id": "military-scientist",
        "outputId": "15062057-9e18-4369-9317-765891cb95e5"
      },
      "source": [
        "copies = int(input('How many copies of the above message do you want?\\n'))\n",
        "msg = (\"Welcome %s! You are %s years old. You will turn 100 years old in %s. \\n\" % (name, age, year))\n",
        "print(msg * copies)"
      ],
      "id": "military-scientist",
      "execution_count": 3,
      "outputs": [
        {
          "output_type": "stream",
          "text": [
            "How many copies of the above message do you want?\n",
            "2\n",
            "Welcome Harleen Kaur! You are 21 years old. You will turn 100 years old in 2100. \n",
            "Welcome Harleen Kaur! You are 21 years old. You will turn 100 years old in 2100. \n",
            "\n"
          ],
          "name": "stdout"
        }
      ]
    },
    {
      "cell_type": "markdown",
      "metadata": {
        "id": "needed-anime"
      },
      "source": [
        "### Ques2: Take a list, say for example this one:\n",
        "### a = [1,1,2,3,5,8,13,21,34,55,89]\n",
        "### and write a program that prints out all the elements of the list that are less than 5."
      ],
      "id": "needed-anime"
    },
    {
      "cell_type": "code",
      "metadata": {
        "colab": {
          "base_uri": "https://localhost:8080/"
        },
        "id": "cognitive-papua",
        "outputId": "ed138111-2f32-48ce-808b-7cd6f9b5a52c"
      },
      "source": [
        "a = [1, 1, 2, 3, 5, 8, 13, 21, 34, 55, 89]\n",
        "for item in a:\n",
        "    if item < 5:\n",
        "        print(item)"
      ],
      "id": "cognitive-papua",
      "execution_count": 4,
      "outputs": [
        {
          "output_type": "stream",
          "text": [
            "1\n",
            "1\n",
            "2\n",
            "3\n"
          ],
          "name": "stdout"
        }
      ]
    },
    {
      "cell_type": "markdown",
      "metadata": {
        "id": "graduate-trade"
      },
      "source": [
        "### Extras i) Instead of printing the elements one by one, make a new list that has all the elements less than 5 from this list and print out this new list. "
      ],
      "id": "graduate-trade"
    },
    {
      "cell_type": "code",
      "metadata": {
        "id": "documented-width"
      },
      "source": [
        ""
      ],
      "id": "documented-width",
      "execution_count": 4,
      "outputs": []
    },
    {
      "cell_type": "code",
      "metadata": {
        "colab": {
          "base_uri": "https://localhost:8080/"
        },
        "id": "psychological-stationery",
        "outputId": "8252f8fb-95bb-4531-ca7e-039750a6d31a"
      },
      "source": [
        "actual_list = [1, 1, 2, 3, 5, 8, 13, 21, 34, 55, 89]\n",
        "\n",
        "new_list = []\n",
        "\n",
        "for item in actual_list:\n",
        "    if item < 5:\n",
        "        new_list.append(item)\n",
        "print(new_list)"
      ],
      "id": "psychological-stationery",
      "execution_count": 5,
      "outputs": [
        {
          "output_type": "stream",
          "text": [
            "[1, 1, 2, 3]\n"
          ],
          "name": "stdout"
        }
      ]
    },
    {
      "cell_type": "markdown",
      "metadata": {
        "id": "national-recycling"
      },
      "source": [
        "### write this using one line of code "
      ],
      "id": "national-recycling"
    },
    {
      "cell_type": "code",
      "metadata": {
        "colab": {
          "base_uri": "https://localhost:8080/"
        },
        "id": "verified-criminal",
        "outputId": "10966d94-1e13-45ac-db20-f3ef4d554d32"
      },
      "source": [
        "actual_list = [1, 1, 2, 3, 5, 8, 13, 21, 34, 55, 89]\n",
        "\n",
        "new_list = []\n",
        "[new_list.append(i) for i in actual_list if i < 5]\n",
        "print(new_list)"
      ],
      "id": "verified-criminal",
      "execution_count": 6,
      "outputs": [
        {
          "output_type": "stream",
          "text": [
            "[1, 1, 2, 3]\n"
          ],
          "name": "stdout"
        }
      ]
    },
    {
      "cell_type": "markdown",
      "metadata": {
        "id": "social-christmas"
      },
      "source": [
        "### Extras ii) Ask a user for a number and return a list that contains only elements from the original list that are smaller than the number entered by the user. "
      ],
      "id": "social-christmas"
    },
    {
      "cell_type": "code",
      "metadata": {
        "colab": {
          "base_uri": "https://localhost:8080/"
        },
        "id": "romantic-australia",
        "outputId": "dcc41a06-9c19-4599-b621-ae21b1a5dcd7"
      },
      "source": [
        "actual_list = [1, 1, 2, 3, 5, 8, 13, 21, 34, 55, 89]\n",
        "user_list = []\n",
        "num = int(input('Enter a number \\n'))\n",
        "for item in actual_list:\n",
        "    if item < num:\n",
        "        user_list.append(item)\n",
        "          \n",
        "print ('Numbers smaller than %s are'  % (num))\n",
        "print(user_list)"
      ],
      "id": "romantic-australia",
      "execution_count": 7,
      "outputs": [
        {
          "output_type": "stream",
          "text": [
            "Enter a number \n",
            "22\n",
            "Numbers smaller than 22 are\n",
            "[1, 1, 2, 3, 5, 8, 13, 21]\n"
          ],
          "name": "stdout"
        }
      ]
    },
    {
      "cell_type": "markdown",
      "metadata": {
        "id": "confidential-rugby"
      },
      "source": [
        "### Ques3:  Write a program that asks the user how many Fibonacci numbers to generate and then generates them. Take this opportunity to think about how you can use functions. Make sure to ask the user to enter the number of numbers in the sequence to generate.\n",
        "\n",
        "### (Hint: The Fibonacci seqence is a sequence of numbers where the next number in the sequence is the sum of the previous two numbers in the sequence. The sequence looks like this: 1, 1, 2, 3, 5, 8, 13, ...)"
      ],
      "id": "confidential-rugby"
    },
    {
      "cell_type": "code",
      "metadata": {
        "colab": {
          "base_uri": "https://localhost:8080/"
        },
        "id": "advanced-alberta",
        "outputId": "62e3adf7-e18c-420a-9b11-f7452ebfb671"
      },
      "source": [
        "def fibonacci():\n",
        "    num = int(input(\"How many fibnocci numbers to generate?:\"))\n",
        "    i = 1\n",
        "    if num == 0:\n",
        "        fib = []\n",
        "    elif num == 1:\n",
        "        fib = [1]\n",
        "    elif num == 2:\n",
        "        fib = [1,1]\n",
        "    elif num > 2:\n",
        "        fib = [1,1]\n",
        "        while i < (num - 1):\n",
        "            fib.append(fib[i] + fib[i-1])\n",
        "            i += 1\n",
        "    return fib\n",
        "print(fibonacci())"
      ],
      "id": "advanced-alberta",
      "execution_count": 8,
      "outputs": [
        {
          "output_type": "stream",
          "text": [
            "How many fibnocci numbers to generate?:7\n",
            "[1, 1, 2, 3, 5, 8, 13]\n"
          ],
          "name": "stdout"
        }
      ]
    },
    {
      "cell_type": "markdown",
      "metadata": {
        "id": "gothic-heating"
      },
      "source": [
        "### Ques 4: Write a program (function!) that takes a list and returns a new list that contains all the elements of the first list minus all the duplicates.\n",
        "\n",
        "### Extras: Write two different functions to do this - one using a loop and constructing a list, and another using sets."
      ],
      "id": "gothic-heating"
    },
    {
      "cell_type": "code",
      "metadata": {
        "colab": {
          "base_uri": "https://localhost:8080/"
        },
        "id": "third-anthony",
        "outputId": "50f48ce3-69f3-4ad0-8887-f23502aa1a3a"
      },
      "source": [
        "#using for loop & lists \n",
        "\n",
        "orig_list = ['Hello', 'Hiii', 'Okay', 'Byee', 'Hey!', 'See yaa!', 'Hello', 'Byee', 'Hey']\n",
        "new_list =[]\n",
        "\n",
        "def doing_Something(orig_list):\n",
        "    for i in orig_list:\n",
        "        if i not in new_list:\n",
        "            new_list.append(i)\n",
        "            \n",
        "    return new_list\n",
        "\n",
        "print(doing_Something(orig_list))\n",
        "    \n",
        "   "
      ],
      "id": "third-anthony",
      "execution_count": 9,
      "outputs": [
        {
          "output_type": "stream",
          "text": [
            "['Hello', 'Hiii', 'Okay', 'Byee', 'Hey!', 'See yaa!', 'Hey']\n"
          ],
          "name": "stdout"
        }
      ]
    },
    {
      "cell_type": "code",
      "metadata": {
        "colab": {
          "base_uri": "https://localhost:8080/"
        },
        "id": "varying-quantum",
        "outputId": "271e4fdb-187b-49cc-bb4b-a5c99d9757dc"
      },
      "source": [
        "#using sets \n",
        "orig_list = ['Hello', 'Hiii', 'Okay', 'Byee', 'Hey!', 'See yaa!', 'Hello', 'Byee', 'Hey']\n",
        "print(list(set(orig_list)))"
      ],
      "id": "varying-quantum",
      "execution_count": 10,
      "outputs": [
        {
          "output_type": "stream",
          "text": [
            "['Hiii', 'Hey!', 'Byee', 'Hey', 'Okay', 'See yaa!', 'Hello']\n"
          ],
          "name": "stdout"
        }
      ]
    },
    {
      "cell_type": "markdown",
      "metadata": {
        "id": "derived-blogger"
      },
      "source": [
        "### Ques 5: Ask the user for a number and determine whether the number is prime or not. (For those who have forgotten, a prime number is a number that has no divisors.). Use functions."
      ],
      "id": "derived-blogger"
    },
    {
      "cell_type": "code",
      "metadata": {
        "colab": {
          "base_uri": "https://localhost:8080/"
        },
        "id": "monetary-overview",
        "outputId": "a7f06161-8d28-4474-9dd8-e8fd943440d2"
      },
      "source": [
        "def Prime(num):\n",
        "    if num > 1:  \n",
        "        for i in range(2,num//2):  \n",
        "            if (num % i) == 0:  \n",
        "                print(num,\"is not a prime number\")  \n",
        "                print(i,\"times\",num//i,\"is\",num) \n",
        "                break\n",
        "        else:  \n",
        "            print(num,\"is a prime number\")  \n",
        "    else:\n",
        "        print(\"number should be greater than 1\")\n",
        "\n",
        "num = int(input('Enter a number \\n'))\n",
        "Prime(int(num))"
      ],
      "id": "monetary-overview",
      "execution_count": 11,
      "outputs": [
        {
          "output_type": "stream",
          "text": [
            "Enter a number \n",
            "3\n",
            "3 is a prime number\n"
          ],
          "name": "stdout"
        }
      ]
    },
    {
      "cell_type": "code",
      "metadata": {
        "id": "vocal-empty"
      },
      "source": [
        ""
      ],
      "id": "vocal-empty",
      "execution_count": 11,
      "outputs": []
    },
    {
      "cell_type": "code",
      "metadata": {
        "id": "official-latex"
      },
      "source": [
        ""
      ],
      "id": "official-latex",
      "execution_count": 11,
      "outputs": []
    }
  ]
}